{
 "cells": [
  {
   "cell_type": "code",
   "execution_count": 1,
   "metadata": {},
   "outputs": [],
   "source": [
    "import ast\n",
    "import gc\n",
    "import glob\n",
    "import os\n",
    "\n",
    "import cv2\n",
    "import joblib\n",
    "import logging\n",
    "\n",
    "import matplotlib.pyplot as plt\n",
    "import numpy as np\n",
    "import pandas as pd\n",
    "import pretrainedmodels\n",
    "import skimage\n",
    "import torch\n",
    "import torchvision\n",
    "from albumentations import (CenterCrop, Compose, HorizontalFlip, Normalize,\n",
    "                            PadIfNeeded, RandomCrop, RandomScale, Resize,\n",
    "                            VerticalFlip)\n",
    "from torch import nn\n",
    "from torch.nn import functional as F\n",
    "from torch.utils import data\n",
    "from torchvision import models\n",
    "from tqdm import tqdm\n",
    "from PIL import Image, ImageDraw\n",
    "\n",
    "\n",
    "%matplotlib inline\n",
    "%load_ext autoreload\n",
    "%autoreload 2"
   ]
  },
  {
   "cell_type": "code",
   "execution_count": 2,
   "metadata": {},
   "outputs": [],
   "source": [
    "class AverageMeter(object):\n",
    "    \"\"\"Computes and stores the average and current value\"\"\"\n",
    "\n",
    "    def __init__(self):\n",
    "        self.reset()\n",
    "\n",
    "    def reset(self):\n",
    "        self.val = 0\n",
    "        self.avg = 0\n",
    "        self.sum = 0\n",
    "        self.count = 0\n",
    "\n",
    "    def update(self, val, n=1):\n",
    "        self.val = val\n",
    "        self.sum += val * n\n",
    "        self.count += n\n",
    "        self.avg = self.sum / self.count\n",
    "\n",
    "\n",
    "def accuracy(output, target, topk=(1,)):\n",
    "    \"\"\"Computes the accuracy over the k top predictions for the specified values of k\"\"\"\n",
    "    with torch.no_grad():\n",
    "        maxk = max(topk)\n",
    "        batch_size = target.size(0)\n",
    "\n",
    "        _, pred = output.topk(maxk, 1, True, True)\n",
    "        pred = pred.t()\n",
    "        correct = pred.eq(target.view(1, -1).expand_as(pred))\n",
    "\n",
    "        res = []\n",
    "        for k in topk:\n",
    "            correct_k = correct[:k].view(-1).float().sum(0, keepdim=True)\n",
    "            res.append(correct_k.mul_(100.0 / batch_size))\n",
    "        return res\n",
    "    \n",
    "def apk(actual, predicted, k=3):\n",
    "    \"\"\"\n",
    "    Source: https://github.com/benhamner/Metrics/blob/master/Python/ml_metrics/average_precision.py\n",
    "    \"\"\"\n",
    "    if len(predicted) > k:\n",
    "        predicted = predicted[:k]\n",
    "    score = 0.0\n",
    "    num_hits = 0.0\n",
    "    for i, p in enumerate(predicted):\n",
    "        if p in actual and p not in predicted[:i]:\n",
    "            num_hits += 1.0\n",
    "            score += num_hits / (i + 1.0)\n",
    "    if not actual:\n",
    "        return 0.0\n",
    "    return score / min(len(actual), k)\n",
    "\n",
    "\n",
    "def mapk(actual, predicted, k=3):\n",
    "    \"\"\"\n",
    "    Source: https://github.com/benhamner/Metrics/blob/master/Python/ml_metrics/average_precision.py\n",
    "    \"\"\"\n",
    "    return np.mean([apk(a, p, k) for a, p in zip(actual, predicted)])\n",
    "\n",
    "\n",
    "def preds2catids(predictions):\n",
    "    return pd.DataFrame(np.argsort(-predictions, axis=1)[:, :3], columns=['a', 'b', 'c'])"
   ]
  },
  {
   "cell_type": "code",
   "execution_count": 3,
   "metadata": {},
   "outputs": [],
   "source": [
    "plt.rcParams['figure.figsize'] = (14, 10)"
   ]
  },
  {
   "cell_type": "code",
   "execution_count": 4,
   "metadata": {},
   "outputs": [],
   "source": [
    "device = 'cuda:1'\n",
    "\n",
    "\n",
    "torch.backends.cudnn.benchmark = True\n",
    "debug = True\n",
    "grayscale = False\n",
    "\n",
    "df_num_rows = 25000\n",
    "valid_size = 0.2\n",
    "\n",
    "line_width = 6\n",
    "base_size = 320\n",
    "constant_size = 96\n",
    "image_size = (constant_size, constant_size)\n",
    "\n",
    "num_epochs = 120\n",
    "batch_size = 32"
   ]
  },
  {
   "cell_type": "code",
   "execution_count": 5,
   "metadata": {
    "scrolled": true
   },
   "outputs": [
    {
     "name": "stdout",
     "output_type": "stream",
     "text": [
      "all DFS: 10\n",
      "DFs train: 8\n",
      "DFs valid: 2\n"
     ]
    },
    {
     "data": {
      "text/plain": [
       "array(['../../../input/train_chunks_full/train_k10_shuffled.csv',\n",
       "       '../../../input/train_chunks_full/train_k16_shuffled.csv',\n",
       "       '../../../input/train_chunks_full/train_k17_shuffled.csv',\n",
       "       '../../../input/train_chunks_full/train_k11_shuffled.csv',\n",
       "       '../../../input/train_chunks_full/train_k0_shuffled.csv',\n",
       "       '../../../input/train_chunks_full/train_k18_shuffled.csv',\n",
       "       '../../../input/train_chunks_full/train_k13_shuffled.csv',\n",
       "       '../../../input/train_chunks_full/train_k12_shuffled.csv'],\n",
       "      dtype='<U55')"
      ]
     },
     "execution_count": 5,
     "metadata": {},
     "output_type": "execute_result"
    }
   ],
   "source": [
    "dfs_all = sorted(glob.glob('../../../input/train_chunks_full/*.csv'))\n",
    "if debug:\n",
    "    dfs_all = dfs_all[:10]\n",
    "    df_num_rows = 100\n",
    "    \n",
    "print('all DFS: {}'.format(len(dfs_all)))\n",
    "\n",
    "dfs_all = np.random.permutation(dfs_all)\n",
    "dfs_train = dfs_all[:-2]\n",
    "dfs_valid = dfs_all[-2:]\n",
    "\n",
    "print('DFs train: {}'.format(len(dfs_train)))\n",
    "print('DFs valid: {}'.format(len(dfs_valid)))\n",
    "\n",
    "df1 = pd.read_csv(dfs_train[0])\n",
    "\n",
    "dfs_train"
   ]
  },
  {
   "cell_type": "code",
   "execution_count": 6,
   "metadata": {},
   "outputs": [],
   "source": [
    "r_ind = np.random.randint(0, len(df1))\n",
    "\n",
    "raw_strokes = df1.drawing[r_ind]\n",
    "raw_strokes = ast.literal_eval(raw_strokes)\n",
    "\n",
    "line_width = 6\n",
    "base_size = 256\n",
    "center = True"
   ]
  },
  {
   "cell_type": "code",
   "execution_count": 7,
   "metadata": {},
   "outputs": [
    {
     "data": {
      "text/plain": [
       "<matplotlib.image.AxesImage at 0x7f3753cc3e10>"
      ]
     },
     "execution_count": 7,
     "metadata": {},
     "output_type": "execute_result"
    },
    {
     "data": {
      "image/png": "[encoded data removed]",
      "text/plain": [
       "<Figure size 1008x720 with 1 Axes>"
      ]
     },
     "metadata": {
      "needs_background": "light"
     },
     "output_type": "display_data"
    }
   ],
   "source": [
    "image = Image.new('RGB', (base_size, base_size))\n",
    "draw = ImageDraw.Draw(image)\n",
    "for t, stroke in enumerate(raw_strokes):\n",
    "    blue = int(t / len(raw_strokes) * 255.0)\n",
    "    red = 255 - blue\n",
    "    for i in range(len(stroke[0]) - 1):\n",
    "        green = max(\n",
    "            int(255.0 - i / (len(stroke[0]) - 1) * 255.0), 128)\n",
    "        draw.line(\n",
    "            (stroke[0][i], stroke[1][i],\n",
    "             stroke[0][i + 1], stroke[1][i + 1]),\n",
    "            fill=(red, green, blue), width=line_width)\n",
    "        \n",
    "        \n",
    "image = np.asarray(image)\n",
    "\n",
    "if center:\n",
    "    nzero_vals = np.max(image, axis=0) > 0\n",
    "    nzero_ind = np.where(nzero_vals)[0]\n",
    "    begin, end = nzero_ind[0], nzero_ind[-1]\n",
    "    tx = (base_size - end + begin - 1) // 2\n",
    "    M = np.float32([[1, 0, tx], [0, 1, 0]])\n",
    "    image = cv2.warpAffine(image, M, image.shape[:2])\n",
    "    \n",
    "    nzero_vals = np.max(image, axis=1) > 0\n",
    "    nzero_ind = np.where(nzero_vals)[0]\n",
    "    begin, end = nzero_ind[0], nzero_ind[-1]\n",
    "    tx = (base_size - end + begin - 1) // 2\n",
    "    M = np.float32([[1, 0, 0], [0, 1, tx]])\n",
    "    image = cv2.warpAffine(image, M, image.shape[:2])\n",
    "    \n",
    "plt.imshow(image)"
   ]
  },
  {
   "cell_type": "code",
   "execution_count": 9,
   "metadata": {
    "scrolled": true
   },
   "outputs": [],
   "source": [
    "h, w = image_size[0], image_size[1]\n",
    "\n",
    "\n",
    "dataset_parameters = {\n",
    "    'base_size': base_size,\n",
    "    'line_width': line_width,\n",
    "    'df_num_rows': df_num_rows,\n",
    "    'divide': True,\n",
    "    'color': True,\n",
    "}\n",
    "\n",
    "valid_dataset_parameters = {\n",
    "    'base_size': base_size,\n",
    "    'line_width': line_width,\n",
    "    'df_num_rows': 30000,\n",
    "    'divide': True,\n",
    "    'color': True,\n",
    "}\n",
    "\n",
    "def train_transform(p=1):\n",
    "    return Compose([\n",
    "        # VerticalFlip(p=0.5),\n",
    "        HorizontalFlip(p=0.5),\n",
    "        # RandomScale(scale_limit=0.3, p=0.5),\n",
    "        Resize(h, w),\n",
    "        # RandomCrop(h, w),\n",
    "        # PadIfNeeded(h, w, 0),\n",
    "        # Normalize(p=0, max_pixel_value=1.0)\n",
    "    ], p=p)\n",
    "\n",
    "\n",
    "def valid_transform(p=1):\n",
    "    return Compose([\n",
    "        Resize(h, w),\n",
    "        # CenterCrop(h, w),\n",
    "        # Normalize(p=0, max_pixel_value=1.0)\n",
    "    ], p=p)"
   ]
  },
  {
   "cell_type": "code",
   "execution_count": 10,
   "metadata": {},
   "outputs": [
    {
     "name": "stdout",
     "output_type": "stream",
     "text": [
      "DF shape: (100, 3)\n",
      "DF shape: (30000, 3)\n"
     ]
    }
   ],
   "source": [
    "from kaggledoodlewr.data.torch_dataset_doodle import DoodleDataset\n",
    "\n",
    "\n",
    "train_dataset = DoodleDataset(\n",
    "    dfs_train[0],\n",
    "    **dataset_parameters,\n",
    "    transform=train_transform())\n",
    "\n",
    "valid_dataset = DoodleDataset(\n",
    "    dfs_valid[0],\n",
    "    **valid_dataset_parameters,\n",
    "    transform=valid_transform())\n",
    "\n",
    "\n",
    "train_loader = data.DataLoader(\n",
    "    train_dataset,\n",
    "    batch_size=batch_size,\n",
    "    shuffle=True,\n",
    "    num_workers=1,\n",
    "    pin_memory=True)\n",
    "\n",
    "valid_loader = data.DataLoader(\n",
    "    valid_dataset,\n",
    "    batch_size=batch_size,\n",
    "    shuffle=False,\n",
    "    num_workers=3,\n",
    "    pin_memory=True)"
   ]
  },
  {
   "cell_type": "code",
   "execution_count": 12,
   "metadata": {},
   "outputs": [
    {
     "data": {
      "text/plain": [
       "<matplotlib.image.AxesImage at 0x7f374c174828>"
      ]
     },
     "execution_count": 12,
     "metadata": {},
     "output_type": "execute_result"
    },
    {
     "data": {
      "image/png": "[encoded data removed]",
      "text/plain": [
       "<Figure size 1008x720 with 1 Axes>"
      ]
     },
     "metadata": {
      "needs_background": "light"
     },
     "output_type": "display_data"
    }
   ],
   "source": [
    "img = train_dataset.draw_pil(raw_strokes, center=True)\n",
    "plt.imshow(img)"
   ]
  },
  {
   "cell_type": "code",
   "execution_count": null,
   "metadata": {},
   "outputs": [],
   "source": [
    "from kaggledoodlewr.models import *\n",
    "\n",
    "\n",
    "model_parameters = {\n",
    "    'num_classes': 340,\n",
    "    'pretrained': True,\n",
    "    'num_channels': 3,\n",
    "    'pooling_output_dim': 2,\n",
    "    'model_name': 'se_resnext50_32x4d',\n",
    "}\n",
    "\n",
    "def get_model(params):\n",
    "    model = SENet(params)\n",
    "    # model = ResNet_(params)\n",
    "    model.train()\n",
    "    model.to(device)\n",
    "    return model"
   ]
  },
  {
   "cell_type": "raw",
   "metadata": {},
   "source": [
    "model_name = 'pnasnet5large' # could be fbresnet152 or inceptionresnetv2\n",
    "model = pretrainedmodels.__dict__[model_name](num_classes=1000, pretrained='imagenet')\n",
    "# model.last_linear = nn.Conv2d(2688, 340, kernel_size=(1, 1), stride=(1, 1))\n",
    "# model.train()\n",
    "# model.to(device)\n",
    "\n",
    "model"
   ]
  },
  {
   "cell_type": "raw",
   "metadata": {},
   "source": [
    "model = get_model(model_parameters)\n",
    "model"
   ]
  },
  {
   "cell_type": "code",
   "execution_count": null,
   "metadata": {},
   "outputs": [],
   "source": [
    "asd"
   ]
  },
  {
   "cell_type": "code",
   "execution_count": null,
   "metadata": {
    "scrolled": true
   },
   "outputs": [],
   "source": [
    "%%time\n",
    "\n",
    "\n",
    "model = get_model(model_parameters)\n",
    "loss_fn = nn.CrossEntropyLoss()\n",
    "learning_rate = 1e-4\n",
    "optimizer = torch.optim.Adam(model.parameters(), lr=learning_rate)\n",
    "\n",
    "n_iter_print = 10000\n",
    "n_iter_eval = 10000\n",
    "\n",
    "\n",
    "losses_ = AverageMeter()\n",
    "top1 = AverageMeter()\n",
    "top5 = AverageMeter()\n",
    "top_map3 = AverageMeter()\n",
    "\n",
    "\n",
    "for e in range(num_epochs):\n",
    "\n",
    "    train_loss = []\n",
    "    n_iter = 0\n",
    "    \n",
    "    for image, target in tqdm(train_loader):\n",
    "        \n",
    "        image = image.to(device)\n",
    "        y_pred = model(image)\n",
    "        target = target.to(device)\n",
    "        \n",
    "        loss = loss_fn(y_pred, target)\n",
    "\n",
    "        optimizer.zero_grad()\n",
    "        loss.backward()\n",
    "        optimizer.step()\n",
    "        \n",
    "        train_loss.append(loss.item())\n",
    "        \n",
    "        n_iter += 1\n",
    "        \n",
    "        if n_iter % n_iter_print == 0:\n",
    "            print('Step: {}'.format(n_iter))\n",
    "        \n",
    "        if n_iter % n_iter_eval == 0:\n",
    "            \n",
    "            print('Evaluate at step: {}'.format(n_iter))\n",
    "            \n",
    "            losses_ = AverageMeter()\n",
    "            top1 = AverageMeter()\n",
    "            top5 = AverageMeter()\n",
    "            top_map3 = AverageMeter()\n",
    "            for val_image, val_target in valid_loader:\n",
    "\n",
    "                with torch.no_grad():\n",
    "                    val_image = val_image.to(device)\n",
    "                    y_pred = model(val_image)\n",
    "                    val_target = val_target.to(device)\n",
    "\n",
    "                    loss = loss_fn(y_pred, val_target)\n",
    "\n",
    "                    acc1, acc5 = accuracy(y_pred, val_target, topk=(1, 5))\n",
    "                    map3 = mapk(\n",
    "                        np.expand_dims(val_target.cpu().detach().numpy(), axis=-1),\n",
    "                        preds2catids(y_pred.cpu().detach().numpy()).values)\n",
    "\n",
    "                    losses_.update(loss.item(), val_image.size(0))\n",
    "                    top1.update(acc1[0], val_image.size(0))\n",
    "                    top5.update(acc5[0], val_image.size(0))\n",
    "                    top_map3.update(map3, val_image.size(0))\n",
    "                    \n",
    "            losses_.reset()\n",
    "            top1.reset()\n",
    "            top5.reset()\n",
    "            top_map3.reset()\n",
    "            \n",
    "            print('Val acc@3: {:.3f}, MAP@3: {:.3f}'.format(top5.avg / 100, top_map3.avg))\n",
    "\n",
    "    print(\"Epoch: %d, Train: %.3f, Val: %.3f\" %\n",
    "          (e, np.mean(train_loss), losses_.avg))"
   ]
  },
  {
   "cell_type": "code",
   "execution_count": null,
   "metadata": {},
   "outputs": [],
   "source": [
    "img_ = image.cpu().detach().numpy()"
   ]
  },
  {
   "cell_type": "code",
   "execution_count": null,
   "metadata": {},
   "outputs": [],
   "source": [
    "img_.shape"
   ]
  },
  {
   "cell_type": "code",
   "execution_count": null,
   "metadata": {},
   "outputs": [],
   "source": [
    "plt.imshow(img_[3, 0])"
   ]
  },
  {
   "cell_type": "code",
   "execution_count": null,
   "metadata": {},
   "outputs": [],
   "source": [
    "asd"
   ]
  },
  {
   "cell_type": "markdown",
   "metadata": {},
   "source": [
    "### skimage:\n",
    "\n",
    "- 10.7gb, 2.13it/s"
   ]
  },
  {
   "cell_type": "markdown",
   "metadata": {},
   "source": [
    "### PIL\n",
    "\n",
    "- 10.7gb, 2.04it/s\n",
    "- 800 iters, 11.0gb\n",
    "- 2500 iters, 11.3gb\n",
    "\n",
    "\n",
    "4 threads:\n",
    "- 10.5gb, 2.06it/s, 100 iters\n",
    "- 11.2gb, 650 iters"
   ]
  },
  {
   "cell_type": "code",
   "execution_count": null,
   "metadata": {},
   "outputs": [],
   "source": [
    "tr_imgs = []\n",
    "tr_targets = []\n",
    "\n",
    "for image, target in tqdm(train_loader):\n",
    "    tr_imgs.append(image.cpu().detach().numpy())\n",
    "    tr_targets.append(target.cpu().detach().numpy())\n",
    "    \n",
    "tr_imgs = np.vstack(tr_imgs)\n",
    "tr_targets = np.concatenate(tr_targets)\n",
    "\n",
    "print(tr_imgs.shape)"
   ]
  },
  {
   "cell_type": "code",
   "execution_count": null,
   "metadata": {
    "scrolled": true
   },
   "outputs": [],
   "source": [
    "n = 8\n",
    "fig, axs = plt.subplots(nrows=n, ncols=n, sharex=True, sharey=True, figsize=(16, 16))\n",
    "for i in range(n**2):\n",
    "    ax = axs[i // n, i % n]\n",
    "    ax.imshow((-tr_imgs[i, 0, :, :] + 1)/2, cmap=plt.cm.gray)\n",
    "    ax.axis('off')\n",
    "plt.tight_layout()\n",
    "plt.show()"
   ]
  },
  {
   "cell_type": "raw",
   "metadata": {},
   "source": [
    "val_image_ = val_image.cpu().detach().numpy()\n",
    "image_ = image.cpu().detach().numpy()"
   ]
  },
  {
   "cell_type": "code",
   "execution_count": null,
   "metadata": {},
   "outputs": [],
   "source": [
    "tr_targets"
   ]
  },
  {
   "cell_type": "code",
   "execution_count": null,
   "metadata": {},
   "outputs": [],
   "source": []
  }
 ],
 "metadata": {
  "kernelspec": {
   "display_name": "Python 3",
   "language": "python",
   "name": "python3"
  },
  "language_info": {
   "codemirror_mode": {
    "name": "ipython",
    "version": 3
   },
   "file_extension": ".py",
   "mimetype": "text/x-python",
   "name": "python",
   "nbconvert_exporter": "python",
   "pygments_lexer": "ipython3",
   "version": "3.6.6"
  }
 },
 "nbformat": 4,
 "nbformat_minor": 2
}
