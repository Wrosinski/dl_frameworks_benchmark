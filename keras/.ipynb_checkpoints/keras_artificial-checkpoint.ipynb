{
 "cells": [
  {
   "cell_type": "code",
   "execution_count": null,
   "metadata": {},
   "outputs": [],
   "source": [
    "import glob\n",
    "import gc\n",
    "import os\n",
    "\n",
    "os.environ[\"CUDA_DEVICE_ORDER\"] = \"PCI_BUS_ID\"\n",
    "os.environ[\"CUDA_VISIBLE_DEVICES\"] = \"0\"\n",
    "\n",
    "import numpy as np\n",
    "import pandas as pd\n",
    "\n",
    "import time\n",
    "import tensorflow.keras as keras\n",
    "\n",
    "from utils_keras import *"
   ]
  },
  {
   "cell_type": "code",
   "execution_count": null,
   "metadata": {},
   "outputs": [],
   "source": [
    "MODEL_NAME = 'resnet50'\n",
    "FIT_MAX_BATCH = True\n",
    "\n",
    "\n",
    "if FIT_MAX_BATCH:\n",
    "    if MODEL_NAME == 'densenet121':\n",
    "        MAX_BATCH_SIZE = 12  # 16 gives memory warning\n",
    "    if MODEL_NAME == 'densenet169':\n",
    "        MAX_BATCH_SIZE = 8  # 12 gives memory warning\n",
    "    if MODEL_NAME == 'inceptionv3':\n",
    "        MAX_BATCH_SIZE = 32  # 32 works\n",
    "    if MODEL_NAME == 'inceptionresnetv2':\n",
    "        MAX_BATCH_SIZE = 16  # 16 works\n",
    "    if MODEL_NAME == 'nasnet_large':\n",
    "        MAX_BATCH_SIZE = 4  # doesn't work ??\n",
    "    if MODEL_NAME == 'resnet50':\n",
    "        MAX_BATCH_SIZE = 24\n",
    "\n",
    "        \n",
    "parameters_dict = {\n",
    "    'MODEL_NAME': MODEL_NAME,\n",
    "    'NUM_SAMPLES': 1000,\n",
    "    'NUM_CHANNELS': 3,\n",
    "    'SIZE': 299,\n",
    "    'EPOCHS': 5,\n",
    "    'BATCH_SIZE': 0,\n",
    "    'NUM_RUNS': 5\n",
    "}\n",
    "\n",
    "if FIT_MAX_BATCH:\n",
    "    parameters_dict['BATCH_SIZE'] = MAX_BATCH_SIZE\n",
    "    print('Fit max batch size into memory.')\n",
    "    \n",
    "\n",
    "NUM_SAMPLES = parameters_dict['NUM_SAMPLES']\n",
    "NUM_CHANNELS = parameters_dict['NUM_CHANNELS']\n",
    "SIZE = parameters_dict['SIZE']\n",
    "EPOCHS = parameters_dict['EPOCHS']\n",
    "BATCH_SIZE = parameters_dict['BATCH_SIZE']\n",
    "NUM_RUNS = parameters_dict['NUM_RUNS']\n",
    "\n",
    "\n",
    "input_dim = (NUM_SAMPLES, SIZE, SIZE, NUM_CHANNELS)\n",
    "print('parameters:\\n{}'.format(parameters_dict))\n",
    "print('\\ninput dim: {}'.format(input_dim))"
   ]
  },
  {
   "cell_type": "code",
   "execution_count": null,
   "metadata": {},
   "outputs": [],
   "source": [
    "X_train = np.random.randint(0, 255, input_dim).astype(np.float32)\n",
    "y_train = (np.random.rand(NUM_SAMPLES) > 0.5).astype(np.uint8)\n",
    "\n",
    "print('X: {}'.format(X_train.shape))\n",
    "print('y: {}'.format(y_train.shape))"
   ]
  },
  {
   "cell_type": "code",
   "execution_count": null,
   "metadata": {
    "scrolled": true
   },
   "outputs": [],
   "source": [
    "for i in range(NUM_RUNS):\n",
    "    \n",
    "    run_name = '{}_size{}_batch{}_trial_{}'.format(MODEL_NAME, SIZE, BATCH_SIZE, i)\n",
    "    print('Running: {}\\n'.format(run_name))\n",
    "    \n",
    "    if not os.path.isdir('./logs/{}'.format(run_name)):\n",
    "        os.makedirs('./logs/{}'.format(run_name))\n",
    "    \n",
    "    pd.DataFrame.from_dict(parameters_dict, orient='index').to_csv(\n",
    "        './logs/{0}/{0}_parameters.csv'.format(run_name), header=None)\n",
    "\n",
    "    benchmark_model(X_train, y_train,\n",
    "                    MODEL_NAME, run_name,\n",
    "                    epochs=EPOCHS, batch_size=BATCH_SIZE)"
   ]
  }
 ],
 "metadata": {
  "kernelspec": {
   "display_name": "Python 3",
   "language": "python",
   "name": "python3"
  },
  "language_info": {
   "codemirror_mode": {
    "name": "ipython",
    "version": 3
   },
   "file_extension": ".py",
   "mimetype": "text/x-python",
   "name": "python",
   "nbconvert_exporter": "python",
   "pygments_lexer": "ipython3",
   "version": "3.6.6"
  }
 },
 "nbformat": 4,
 "nbformat_minor": 2
}
